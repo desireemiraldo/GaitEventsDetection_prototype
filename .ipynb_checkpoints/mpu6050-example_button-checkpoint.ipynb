{
 "cells": [
  {
   "cell_type": "code",
   "execution_count": null,
   "metadata": {
    "collapsed": true
   },
   "outputs": [],
   "source": [
    "from mpu6050 import mpu6050\n",
    "from time import sleep\n",
    "import RPi.GPIO as GPIO\n",
    "\n",
    "sensor = mpu6050(0x68)\n",
    "\n",
    "buttonPin = 24 #pin18 pull-down\n",
    "GPIO.setmode(GPIO.BCM)\n",
    "GPIO.setup(buttonPin, GPIO.IN)#, pull_up_down=GPIO.PUD_UP)\n",
    "\n",
    "isRunning = False #GPIO.input(buttonPin)\n",
    "oldIsRunningValue = False #GPIO.input(buttonPin)\n",
    "\n",
    "print (\"Running...\")\n",
    "\n",
    "def CheckI2CData():\n",
    "    accel_data = sensor.get_accel_data()\n",
    "    gyro_data = sensor.get_gyro_data()\n",
    "    temp = sensor.get_temp()\n",
    "    \n",
    "    print(\"Accelerometer data\")\n",
    "    print(\"x: \" + str(accel_data['x']))\n",
    "    print(\"y: \" + str(accel_data['y']))\n",
    "    print(\"z: \" + str(accel_data['z']))\n",
    "\n",
    "    print(\"Gyroscope data\")\n",
    "    print(\"x: \" + str(gyro_data['x']))\n",
    "    print(\"y: \" + str(gyro_data['y']))\n",
    "    print(\"z: \" + str(gyro_data['z']))\n",
    "\n",
    "    print(\"Temp: \" + str(temp) + \" C\")\n",
    "\n",
    "while True:\n",
    "    if GPIO.input(buttonPin):\n",
    "        sleep(.25)\n",
    "        isRunning = not isRunning\n",
    "        #print(\" ... \" )\n",
    "\n",
    "    if oldIsRunningValue != isRunning:\n",
    "        sleep(1)\n",
    "        oldIsRunningValue = isRunning\n",
    "\n",
    "        if isRunning:\n",
    "            print(\"Collecting data.\")\n",
    "            sleep(.5)\n",
    "        else: print(\"Paused.\")\n",
    "\n",
    "    if isRunning:\n",
    "        CheckI2CData()\n",
    "\n",
    "print(\"Stopped running.\")\n",
    "\n"
   ]
  }
 ],
 "metadata": {
  "kernelspec": {
   "display_name": "Python 3",
   "language": "python",
   "name": "python3"
  },
  "language_info": {
   "codemirror_mode": {
    "name": "ipython",
    "version": 3
   },
   "file_extension": ".py",
   "mimetype": "text/x-python",
   "name": "python",
   "nbconvert_exporter": "python",
   "pygments_lexer": "ipython3",
   "version": "3.6.5"
  }
 },
 "nbformat": 4,
 "nbformat_minor": 2
}
