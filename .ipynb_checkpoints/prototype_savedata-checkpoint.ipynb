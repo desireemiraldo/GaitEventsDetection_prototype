{
 "cells": [
  {
   "cell_type": "markdown",
   "metadata": {},
   "source": [
    "## Para testar no Raspberry "
   ]
  },
  {
   "cell_type": "markdown",
   "metadata": {},
   "source": [
    "- Abre arquivo com dados da calibração\n",
    "- Coleta os dados (via pushbutton, com feedback do led)\n",
    "- Realiza a regressão\n",
    "- Avalia a condição para disparar o estímulo\n"
   ]
  },
  {
   "cell_type": "code",
   "execution_count": null,
   "metadata": {
    "collapsed": true
   },
   "outputs": [],
   "source": [
    "print (\"Running...\")\n",
    "\n",
    "from mpu6050 import mpu6050\n",
    "from time import sleep\n",
    "import RPi.GPIO as GPIO\n",
    "from  pandas import read_csv\n",
    "import numpy as np\n",
    "\n",
    "\n",
    "sensor = mpu6050(0x68)\n",
    "\n",
    "buttonPin = 24 #pin18 pull-down\n",
    "ledPin = 17 #pin11 pull-down\n",
    "GPIO.setmode(GPIO.BCM)\n",
    "GPIO.setup(buttonPin, GPIO.IN, pull_up_down=GPIO.PUD_UP)\n",
    "GPIO.setup(ledPin,GPIO.OUT)\n",
    "GPIO.output(ledPin,False) #set ledPin high to off led\n",
    "\n",
    "isRunning = False #GPIO.input(buttonPin)\n",
    "oldIsRunningValue = False #GPIO.input(buttonPin)\n",
    "\n",
    "info = read_csv('calibration.txt',header=3)\n",
    "maxValue = -8\n",
    "print (\"Calibration file loaded.\")\n",
    "\n",
    "\n",
    "def ReadCalibrationFile(info):\n",
    "    features = np.fromstring(info.features[0].replace('(','').replace(')',''), dtype=int, sep=',')\n",
    "    betaM = np.fromstring(info.betaM[0].replace('[','').replace(']',''), dtype=float, sep=' ')\n",
    "    threshold = info.threshold[0]\n",
    "    global data\n",
    "    data = np.empty(features.shape,dtype=np.float64)\n",
    "    return features, betaM, threshold, data\n",
    "\n",
    "\n",
    "def BuildDataArrays(features,accel_data,gyro_data,const = 1):\n",
    "    for index, f in enumerate(features):\n",
    "        if f==0: data[index] = np.sqrt(accel_data['x']**2 + accel_data['y']**2 + accel_data['z']**2) # 'acc'\n",
    "        if f==1: data[index] = accel_data['x'] # 'accx'\n",
    "        if f==2: data[index] = accel_data['y'] # 'accy'\n",
    "        if f==3: data[index] = accel_data['z'] # 'accz'\n",
    "        if f==4: data[index] = np.sqrt(gyro_data['x']**2 + gyro_data['y']**2 + gyro_data['z']**2)    # 'gyr'\n",
    "        if f==5: data[index] = gyro_data['x'] # 'gyrx'\n",
    "        if f==6: data[index] = gyro_data['y'] # 'gyry'\n",
    "        if f==7: data[index] = gyro_data['z'] # 'gyrz'\n",
    "        if f==8: data[index] = const          # 'const'\n",
    "    #return data\n",
    "\n",
    "def CheckI2CData(features,threshold,maxValue):\n",
    "    accel_data = sensor.get_accel_data()\n",
    "    gyro_data = sensor.get_gyro_data()\n",
    "\n",
    "    BuildDataArrays(features,accel_data,gyro_data,const = 1)\n",
    "\n",
    "    regression = data.dot(betaM)\n",
    "    if regression >= threshold*maxValue: print('Stimulus: {:.4f} >= {:.4f}'.format(regression,maxValue*threshold))\n",
    "    else: print('{:.4f} >= {:.4f}'.format(regression,maxValue*threshold))\n",
    "\n",
    "while True:\n",
    "    if GPIO.input(buttonPin):\n",
    "        sleep(.25)\n",
    "        isRunning = not isRunning\n",
    "        #print(\" ... \" )\n",
    "\n",
    "    if oldIsRunningValue != isRunning:\n",
    "        sleep(1)\n",
    "        oldIsRunningValue = isRunning\n",
    "\n",
    "        if isRunning:\n",
    "            #print(\"Collecting data.\")\n",
    "            GPIO.output(ledPin,True)\n",
    "            features, betaM, threshold, data = ReadCalibrationFile(info)\n",
    "            sleep(.5)\n",
    "        else:\n",
    "            GPIO.output(ledPin, False) #led off\n",
    "            print(\"Paused.\")\n",
    "\n",
    "    if isRunning:\n",
    "        CheckI2CData(features,threshold,maxValue)\n",
    "\n",
    "print(\"Stopped running.\")\n"
   ]
  }
 ],
 "metadata": {
  "kernelspec": {
   "display_name": "Python 3",
   "language": "python",
   "name": "python3"
  },
  "language_info": {
   "codemirror_mode": {
    "name": "ipython",
    "version": 3
   },
   "file_extension": ".py",
   "mimetype": "text/x-python",
   "name": "python",
   "nbconvert_exporter": "python",
   "pygments_lexer": "ipython3",
   "version": "3.6.5"
  }
 },
 "nbformat": 4,
 "nbformat_minor": 2
}
