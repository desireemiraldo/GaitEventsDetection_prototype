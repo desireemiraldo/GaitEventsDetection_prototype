{
 "cells": [
  {
   "cell_type": "code",
   "execution_count": 6,
   "metadata": {
    "collapsed": true
   },
   "outputs": [],
   "source": [
    "import numpy as np\n",
    "import pandas as pd"
   ]
  },
  {
   "cell_type": "code",
   "execution_count": 2,
   "metadata": {},
   "outputs": [],
   "source": [
    "def appendToCSV_void(df, csvFilePath, sep=\",\"):\n",
    "    import os\n",
    "    if not os.path.isfile(csvFilePath):\n",
    "        df.to_csv(csvFilePath, mode='a', index=False, sep=sep)\n",
    "    elif len(df.columns) != len(pd.read_csv(csvFilePath, nrows=1, sep=sep).columns):\n",
    "        raise Exception(\"Columns do not match!! Dataframe has \" + str(len(df.columns)) + \" columns. CSV file has \" + str(len(pd.read_csv(csvFilePath, nrows=1, sep=sep).columns)) + \" columns.\")\n",
    "    elif not (df.columns == pd.read_csv(csvFilePath, nrows=1, sep=sep).columns).all():\n",
    "        raise Exception(\"Columns and column order of dataframe and csv file do not match!!\")\n",
    "    else:\n",
    "        df.to_csv(csvFilePath, mode='a', index=False, sep=sep, header=False)"
   ]
  },
  {
   "cell_type": "code",
   "execution_count": 3,
   "metadata": {
    "collapsed": true
   },
   "outputs": [],
   "source": [
    "accel_data = {'x':9.05487067871,'y':2.28646258545,'z':0.7230489}\n",
    "gyro_data = {'x':3.71755725191,'y':0.946564885496,'z':1.19083969466}"
   ]
  },
  {
   "cell_type": "code",
   "execution_count": 7,
   "metadata": {},
   "outputs": [],
   "source": [
    "#data = DataFrame({'accel':[],'gyro':[]})\n",
    "\n",
    "new = pd.DataFrame({'accel':[accel_data],'gyro':[gyro_data]})"
   ]
  },
  {
   "cell_type": "code",
   "execution_count": 8,
   "metadata": {},
   "outputs": [],
   "source": [
    "appendToCSV_void(new, ('savedataTest.csv'), sep=\",\")\n",
    "appendToCSV_void(new, ('savedataTest.csv'), sep=\",\")\n",
    "appendToCSV_void(new, ('savedataTest.csv'), sep=\",\")\n",
    "appendToCSV_void(new, ('savedataTest.csv'), sep=\",\")"
   ]
  },
  {
   "cell_type": "markdown",
   "metadata": {},
   "source": [
    "## Para testar no Raspberry "
   ]
  },
  {
   "cell_type": "markdown",
   "metadata": {},
   "source": [
    "- Abre arquivo com dados da calibração\n",
    "- Coleta os dados (via pushbutton, com feedback do led)\n",
    "- Salva os dados em um arquivo texto\n"
   ]
  },
  {
   "cell_type": "code",
   "execution_count": null,
   "metadata": {
    "collapsed": true
   },
   "outputs": [],
   "source": [
    "print (\"Running...\")\n",
    "\n",
    "from mpu6050 import mpu6050\n",
    "from time import sleep\n",
    "import RPi.GPIO as GPIO\n",
    "import numpy as np\n",
    "import pandas as pdnano\n",
    "\n",
    "\n",
    "sensor = mpu6050(0x68)\n",
    "\n",
    "buttonPin = 24 #pin18 pull-down\n",
    "ledPin = 17 #pin11 pull-down\n",
    "GPIO.setmode(GPIO.BCM)\n",
    "GPIO.setup(buttonPin, GPIO.IN, pull_up_down=GPIO.PUD_UP)\n",
    "GPIO.setup(ledPin,GPIO.OUT)\n",
    "GPIO.output(ledPin,False) #set ledPin high to off led\n",
    "\n",
    "isRunning = False #GPIO.input(buttonPin)\n",
    "oldIsRunningValue = False #GPIO.input(buttonPin)\n",
    "\n",
    "def appendToCSV_void(df, csvFilePath, sep=\",\"):\n",
    "    import os\n",
    "    if not os.path.isfile(csvFilePath):\n",
    "        df.to_csv(csvFilePath, mode='a', index=False, sep=sep)\n",
    "    elif len(df.columns) != len(pd.read_csv(csvFilePath, nrows=1, sep=sep).columns):\n",
    "        raise Exception(\"Columns do not match!! Dataframe has \" + str(len(df.columns)) + \" columns. CSV file has \" + str(len(pd.read_csv(csvFilePath, nrows=1, sep=sep).columns)) + \" columns.\")\n",
    "    elif not (df.columns == pd.read_csv(csvFilePath, nrows=1, sep=sep).columns).all():\n",
    "        raise Exception(\"Columns and column order of dataframe and csv file do not match!!\")\n",
    "    else:\n",
    "        df.to_csv(csvFilePath, mode='a', index=False, sep=sep, header=False)\n",
    "\n",
    "def SaveI2CData():\n",
    "    accel_data = sensor.get_accel_data()\n",
    "    gyro_data = sensor.get_gyro_data()\n",
    "    \n",
    "    new = pd.DataFrame({'accel':[accel_data],'gyro':[gyro_data]})\n",
    "    appendToCSV_void(new, ('savedataTest.csv'), sep=\",\")\n",
    "\n",
    "while True:\n",
    "    if GPIO.input(buttonPin):\n",
    "        sleep(.25)\n",
    "        isRunning = not isRunning\n",
    "        #print(\" ... \" )\n",
    "\n",
    "    if oldIsRunningValue != isRunning:\n",
    "        sleep(1)\n",
    "        oldIsRunningValue = isRunning\n",
    "\n",
    "        if isRunning:\n",
    "            #print(\"Collecting data.\")\n",
    "            GPIO.output(ledPin,True)\n",
    "            sleep(.5)\n",
    "        else:\n",
    "            GPIO.output(ledPin, False) #led off\n",
    "            print(\"\\nPaused.\")\n",
    "\n",
    "    if isRunning:\n",
    "        SaveI2CData()\n",
    "\n",
    "print(\"Stopped running.\")\n"
   ]
  }
 ],
 "metadata": {
  "kernelspec": {
   "display_name": "Python 3",
   "language": "python",
   "name": "python3"
  },
  "language_info": {
   "codemirror_mode": {
    "name": "ipython",
    "version": 3
   },
   "file_extension": ".py",
   "mimetype": "text/x-python",
   "name": "python",
   "nbconvert_exporter": "python",
   "pygments_lexer": "ipython3",
   "version": "3.6.5"
  }
 },
 "nbformat": 4,
 "nbformat_minor": 2
}
